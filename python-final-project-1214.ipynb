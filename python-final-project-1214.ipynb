{
 "cells": [
  {
   "cell_type": "code",
   "execution_count": 1,
   "id": "744f7b20",
   "metadata": {},
   "outputs": [],
   "source": [
    "#Importing the necessary packages (os, youtube_dl, editor from moviepy, sqlite3)\n",
    "import os\n",
    "import sys, youtube_dl\n",
    "import moviepy.editor as mp\n",
    "import sqlite3\n",
    "from sqlite3 import Error"
   ]
  },
  {
   "cell_type": "code",
   "execution_count": 2,
   "id": "06fccaf4",
   "metadata": {},
   "outputs": [
    {
     "data": {
      "text/plain": [
       "'E:\\\\MIDTERMEXAM'"
      ]
     },
     "execution_count": 2,
     "metadata": {},
     "output_type": "execute_result"
    }
   ],
   "source": [
    "#Setting up the working directory\n",
    "data_dir=\"E:\\MIDTERMEXAM\"\n",
    "os.chdir(data_dir)\n",
    "os.getcwd()"
   ]
  },
  {
   "cell_type": "code",
   "execution_count": 4,
   "id": "343203c4",
   "metadata": {},
   "outputs": [],
   "source": [
    "#Setting up the YouTube directory where the video file will be downloaded\n",
    "YOUTUBE_DL_DIR = 'E:\\MIDTERMEXAM'"
   ]
  },
  {
   "cell_type": "code",
   "execution_count": 5,
   "id": "5631e928",
   "metadata": {},
   "outputs": [],
   "source": [
    "#.   Creating function download_video() to download the video from Youtube where we are specifying the link and specifying the name for the video that needs to be saved in the local\n",
    "def download_video(videoId):\n",
    "    ytbevideo = ['https://www.youtube.com/watch?v='+videoId]\n",
    "    ytbe_opts = {'outtmpl': 'Project_Video'}\n",
    "\n",
    "    with youtube_dl.YoutubeDL(ytbe_opts) as ydl:\n",
    "        ydl.download(ytbevideo)"
   ]
  },
  {
   "cell_type": "code",
   "execution_count": 6,
   "id": "e8ad7bca",
   "metadata": {},
   "outputs": [
    {
     "name": "stdout",
     "output_type": "stream",
     "text": [
      "[youtube] sVPYIRF9RCQ: Downloading webpage\n",
      "[download] Destination: Project_Video\n",
      "[download] 100% of 8.17MiB in 01:54                  \n"
     ]
    }
   ],
   "source": [
    "#Calling the function download_video() in the main program by passing the id of the video as parameter\n",
    "if __name__ == \"__main__\":\n",
    "    videoId = 'sVPYIRF9RCQ'\n",
    "    download_video(videoId)"
   ]
  },
  {
   "cell_type": "code",
   "execution_count": 9,
   "id": "f628dee1",
   "metadata": {},
   "outputs": [],
   "source": [
    "#Creating a subprocess using VideoFileClip for the above-saved video\n",
    "clip = mp.VideoFileClip(r\"E:\\MIDTERMEXAM\\Project_Video\")"
   ]
  },
  {
   "cell_type": "code",
   "execution_count": 10,
   "id": "ef41e289",
   "metadata": {},
   "outputs": [
    {
     "name": "stdout",
     "output_type": "stream",
     "text": [
      "MoviePy - Writing audio in Project_audio.mp3\n"
     ]
    },
    {
     "name": "stderr",
     "output_type": "stream",
     "text": [
      "                                                                      "
     ]
    },
    {
     "name": "stdout",
     "output_type": "stream",
     "text": [
      "MoviePy - Done.\n"
     ]
    },
    {
     "name": "stderr",
     "output_type": "stream",
     "text": [
      "\r"
     ]
    }
   ],
   "source": [
    "#Extracting the audio from the specified video and saving the audio clip as Project_audio.mp3 in the local path\n",
    "clip.audio.write_audiofile(r\"Project_audio.mp3\")"
   ]
  },
  {
   "cell_type": "code",
   "execution_count": 13,
   "id": "b150dfbb",
   "metadata": {},
   "outputs": [
    {
     "name": "stdout",
     "output_type": "stream",
     "text": [
      "C:\\Users\\Abhishek MR\n"
     ]
    }
   ],
   "source": [
    "cd C:\\Users\\Abhishek MR\\"
   ]
  },
  {
   "cell_type": "code",
   "execution_count": 14,
   "id": "6007fc95",
   "metadata": {},
   "outputs": [
    {
     "data": {
      "text/plain": [
       "'C:\\\\Users\\\\Abhishek MR'"
      ]
     },
     "execution_count": 14,
     "metadata": {},
     "output_type": "execute_result"
    }
   ],
   "source": [
    "os.getcwd()"
   ]
  },
  {
   "cell_type": "code",
   "execution_count": 15,
   "id": "76e6be56",
   "metadata": {},
   "outputs": [
    {
     "name": "stdout",
     "output_type": "stream",
     "text": [
      "DB Init\n",
      "SQLite Connection closed\n"
     ]
    }
   ],
   "source": [
    "#Connecting to the database and creating a table Elite_audio_uploads\n",
    "try:\n",
    "    \n",
    "    # Connect to DB and create a cursor\n",
    "    sqliteConnection = sqlite3.connect('app.db')\n",
    "    cursor = sqliteConnection.cursor()\n",
    "    print('DB Init')\n",
    "    \n",
    "    # Write a query and execute it with cursor\n",
    "    query = 'CREATE TABLE IF NOT EXISTS Elite_audio_uploads (id integer PRIMARY KEY,file_name text NOT NULL,file_blob text NOT NULL);'\n",
    "    cursor.execute(query)\n",
    "  \n",
    "    # Fetch and output result\n",
    "    result = cursor.fetchall()\n",
    "   \n",
    "    # Close the cursor\n",
    "    cursor.close()\n",
    "  \n",
    "# Handle errors\n",
    "except sqlite3.Error as error:\n",
    "    print('Error occured - ', error)\n",
    "  \n",
    "# Close DB Connection irrespective of success\n",
    "# or failure\n",
    "finally:\n",
    "    \n",
    "    if sqliteConnection:\n",
    "        sqliteConnection.close()\n",
    "        print('SQLite Connection closed')\n"
   ]
  },
  {
   "cell_type": "code",
   "execution_count": 16,
   "id": "027e8a63",
   "metadata": {},
   "outputs": [],
   "source": [
    "#Creating a function ‘insert_into_database()’ to insert the audio file details to the created table Elite_audio_uploads\n",
    "def insert_into_database(file_path_name, file_blob): \n",
    "    try:\n",
    "        conn = sqlite3.connect('app.db')\n",
    "        print(\"[INFO] : Successful connection!\")\n",
    "        cur = conn.cursor()\n",
    "        sql_insert_file_query = '''INSERT INTO Elite_audio_uploads(file_name, file_blob) VALUES(?, ?)'''\n",
    "        cur = conn.cursor()\n",
    "        cur.execute(sql_insert_file_query, (file_path_name, file_blob, ))\n",
    "        conn.commit()\n",
    "        print(\"[INFO] : The blob for \", file_path_name, \" is in the database.\") \n",
    "        last_updated_entry = cur.lastrowid\n",
    "        return last_updated_entry\n",
    "    # Handle errors\n",
    "    except Error as e:\n",
    "        print(e)\n",
    "    # Close DB Connection irrespective of success\n",
    "    finally:\n",
    "        if conn:\n",
    "            conn.close()\n",
    "        else:\n",
    "            error = \"Something is wrong here.\"\n"
   ]
  },
  {
   "cell_type": "code",
   "execution_count": 17,
   "id": "1ade66c8",
   "metadata": {},
   "outputs": [],
   "source": [
    "#Creating a function ‘convert_into_binary()’ to convert the targeted audio file into binary format\n",
    "def convert_into_binary(file_path):\n",
    "    with open(file_path, 'rb') as file:\n",
    "        binary = file.read()\n",
    "    return binary    "
   ]
  },
  {
   "cell_type": "code",
   "execution_count": 18,
   "id": "52e77611",
   "metadata": {},
   "outputs": [],
   "source": [
    "#Creating a function ‘read_blob_data()’ to read the saved audio record from the database\n",
    "def read_blob_data(entry_id):\n",
    "    try:\n",
    "        conn = sqlite3.connect('app.db')\n",
    "        cur = conn.cursor()\n",
    "        print(\"[INFO] : Connected to SQLite to read_blob_data\")\n",
    "        sql_fetch_blob_query = \"\"\"SELECT * from Elite_audio_uploads where id = ?\"\"\"\n",
    "        cur.execute(sql_fetch_blob_query, (entry_id,))\n",
    "        record = cur.fetchall()\n",
    "        #Extracting the records.\n",
    "        for row in record:\n",
    "            converted_file_name = row[1]\n",
    "            audio_binarycode  = row[2]\n",
    "                        \n",
    "            last_slash_index = converted_file_name.rfind(\"/\") + 1 \n",
    "            final_file_name = converted_file_name[last_slash_index:] \n",
    "            write_to_file(audio_binarycode, final_file_name)\n",
    "            print(\"Audio successfully stored in the local folder. \\n\")\n",
    "        cur.close()\n",
    "    # Handle errors\n",
    "    except sqlite3.Error as error:\n",
    "        print(\"Failed to read audio blob data from sqlite table\", error)\n",
    "    # Close DB Connection irrespective of success\n",
    "    finally:\n",
    "         if conn:\n",
    "            conn.close()"
   ]
  },
  {
   "cell_type": "code",
   "execution_count": 26,
   "id": "68cffe0a",
   "metadata": {},
   "outputs": [],
   "source": [
    "#Creating a function ‘write_to_file()’ to write back the audio file read from the database to the local folder\n",
    "def write_to_file(binary_data, file_name):\n",
    "    outFileName=\"C:\\\\Users\\\\Project_Audio.mp3\"\n",
    "    with open(outFileName, 'wb') as file:\n",
    "        file.write(binary_data)\n",
    "    print(\"The audio file has been written to the project directory: \", file_name)"
   ]
  },
  {
   "cell_type": "code",
   "execution_count": 28,
   "id": "d3c862c8",
   "metadata": {
    "scrolled": true
   },
   "outputs": [
    {
     "name": "stdout",
     "output_type": "stream",
     "text": [
      "Python Project!!\n",
      "Enter full audio file path:\n",
      "E:\\MIDTERMEXAM\\Project_Audio.mp3\n",
      "[INFO] : Successful connection!\n",
      "[INFO] : The blob for  E:\\MIDTERMEXAM\\Project_Audio.mp3  is in the database.\n",
      "[INFO] : Connected to SQLite to read_blob_data\n"
     ]
    },
    {
     "ename": "PermissionError",
     "evalue": "[Errno 13] Permission denied: 'C:\\\\Users\\\\Project_Audio.mp3'",
     "output_type": "error",
     "traceback": [
      "\u001b[1;31m---------------------------------------------------------------------------\u001b[0m",
      "\u001b[1;31mPermissionError\u001b[0m                           Traceback (most recent call last)",
      "Input \u001b[1;32mIn [28]\u001b[0m, in \u001b[0;36m<cell line: 11>\u001b[1;34m()\u001b[0m\n\u001b[0;32m     10\u001b[0m \u001b[38;5;66;03m#Calling the above-created function from the main program\u001b[39;00m\n\u001b[0;32m     11\u001b[0m \u001b[38;5;28;01mif\u001b[39;00m \u001b[38;5;18m__name__\u001b[39m \u001b[38;5;241m==\u001b[39m \u001b[38;5;124m\"\u001b[39m\u001b[38;5;124m__main__\u001b[39m\u001b[38;5;124m\"\u001b[39m:\n\u001b[1;32m---> 12\u001b[0m     \u001b[43mmain\u001b[49m\u001b[43m(\u001b[49m\u001b[43m)\u001b[49m\n",
      "Input \u001b[1;32mIn [28]\u001b[0m, in \u001b[0;36mmain\u001b[1;34m()\u001b[0m\n\u001b[0;32m      5\u001b[0m file_blob \u001b[38;5;241m=\u001b[39m convert_into_binary(file_path_name)\n\u001b[0;32m      7\u001b[0m last_updated_entry \u001b[38;5;241m=\u001b[39m insert_into_database(file_path_name, file_blob)\n\u001b[1;32m----> 8\u001b[0m \u001b[43mread_blob_data\u001b[49m\u001b[43m(\u001b[49m\u001b[43mlast_updated_entry\u001b[49m\u001b[43m)\u001b[49m\n",
      "Input \u001b[1;32mIn [18]\u001b[0m, in \u001b[0;36mread_blob_data\u001b[1;34m(entry_id)\u001b[0m\n\u001b[0;32m     15\u001b[0m     last_slash_index \u001b[38;5;241m=\u001b[39m converted_file_name\u001b[38;5;241m.\u001b[39mrfind(\u001b[38;5;124m\"\u001b[39m\u001b[38;5;124m/\u001b[39m\u001b[38;5;124m\"\u001b[39m) \u001b[38;5;241m+\u001b[39m \u001b[38;5;241m1\u001b[39m \n\u001b[0;32m     16\u001b[0m     final_file_name \u001b[38;5;241m=\u001b[39m converted_file_name[last_slash_index:] \n\u001b[1;32m---> 17\u001b[0m     \u001b[43mwrite_to_file\u001b[49m\u001b[43m(\u001b[49m\u001b[43maudio_binarycode\u001b[49m\u001b[43m,\u001b[49m\u001b[43m \u001b[49m\u001b[43mfinal_file_name\u001b[49m\u001b[43m)\u001b[49m\n\u001b[0;32m     18\u001b[0m     \u001b[38;5;28mprint\u001b[39m(\u001b[38;5;124m\"\u001b[39m\u001b[38;5;124mAudio successfully stored in the local folder. \u001b[39m\u001b[38;5;130;01m\\n\u001b[39;00m\u001b[38;5;124m\"\u001b[39m)\n\u001b[0;32m     19\u001b[0m cur\u001b[38;5;241m.\u001b[39mclose()\n",
      "Input \u001b[1;32mIn [26]\u001b[0m, in \u001b[0;36mwrite_to_file\u001b[1;34m(binary_data, file_name)\u001b[0m\n\u001b[0;32m      2\u001b[0m \u001b[38;5;28;01mdef\u001b[39;00m \u001b[38;5;21mwrite_to_file\u001b[39m(binary_data, file_name):\n\u001b[0;32m      3\u001b[0m     outFileName\u001b[38;5;241m=\u001b[39m\u001b[38;5;124m\"\u001b[39m\u001b[38;5;124mC:\u001b[39m\u001b[38;5;130;01m\\\\\u001b[39;00m\u001b[38;5;124mUsers\u001b[39m\u001b[38;5;130;01m\\\\\u001b[39;00m\u001b[38;5;124mProject_Audio.mp3\u001b[39m\u001b[38;5;124m\"\u001b[39m\n\u001b[1;32m----> 4\u001b[0m     \u001b[38;5;28;01mwith\u001b[39;00m \u001b[38;5;28;43mopen\u001b[39;49m\u001b[43m(\u001b[49m\u001b[43moutFileName\u001b[49m\u001b[43m,\u001b[49m\u001b[43m \u001b[49m\u001b[38;5;124;43m'\u001b[39;49m\u001b[38;5;124;43mwb\u001b[39;49m\u001b[38;5;124;43m'\u001b[39;49m\u001b[43m)\u001b[49m \u001b[38;5;28;01mas\u001b[39;00m file:\n\u001b[0;32m      5\u001b[0m         file\u001b[38;5;241m.\u001b[39mwrite(binary_data)\n\u001b[0;32m      6\u001b[0m     \u001b[38;5;28mprint\u001b[39m(\u001b[38;5;124m\"\u001b[39m\u001b[38;5;124mThe audio file has been written to the project directory: \u001b[39m\u001b[38;5;124m\"\u001b[39m, file_name)\n",
      "\u001b[1;31mPermissionError\u001b[0m: [Errno 13] Permission denied: 'C:\\\\Users\\\\Project_Audio.mp3'"
     ]
    }
   ],
   "source": [
    "#Creating a function ‘main()’ where the path of the file is being accepted from the user and the functions convert_into_binary, insert_into_database and read_blob_data are called\n",
    "def main():\n",
    "    print(\"Python Project!!\")\n",
    "    file_path_name = input(\"Enter full audio file path:\\n\") \n",
    "    file_blob = convert_into_binary(file_path_name)\n",
    "    \n",
    "    last_updated_entry = insert_into_database(file_path_name, file_blob)\n",
    "    read_blob_data(last_updated_entry)\n",
    "\n",
    "#Calling the above-created function from the main program\n",
    "if __name__ == \"__main__\":\n",
    "    main()"
   ]
  },
  {
   "cell_type": "code",
   "execution_count": 30,
   "id": "ababce7a",
   "metadata": {},
   "outputs": [
    {
     "ename": "SyntaxError",
     "evalue": "invalid syntax (372296303.py, line 1)",
     "output_type": "error",
     "traceback": [
      "\u001b[1;36m  Input \u001b[1;32mIn [30]\u001b[1;36m\u001b[0m\n\u001b[1;33m    SELECT * From Elite_audio_uploads\u001b[0m\n\u001b[1;37m                  ^\u001b[0m\n\u001b[1;31mSyntaxError\u001b[0m\u001b[1;31m:\u001b[0m invalid syntax\n"
     ]
    }
   ],
   "source": [
    "SELECT * From Elite_audio_uploads"
   ]
  },
  {
   "cell_type": "code",
   "execution_count": 31,
   "id": "f4044bed",
   "metadata": {},
   "outputs": [
    {
     "ename": "SyntaxError",
     "evalue": "invalid syntax (263348185.py, line 1)",
     "output_type": "error",
     "traceback": [
      "\u001b[1;36m  Input \u001b[1;32mIn [31]\u001b[1;36m\u001b[0m\n\u001b[1;33m    .tables\u001b[0m\n\u001b[1;37m    ^\u001b[0m\n\u001b[1;31mSyntaxError\u001b[0m\u001b[1;31m:\u001b[0m invalid syntax\n"
     ]
    }
   ],
   "source": [
    ".tables"
   ]
  },
  {
   "cell_type": "code",
   "execution_count": 32,
   "id": "f4f2dca2",
   "metadata": {},
   "outputs": [
    {
     "ename": "SyntaxError",
     "evalue": "invalid syntax (795797038.py, line 1)",
     "output_type": "error",
     "traceback": [
      "\u001b[1;36m  Input \u001b[1;32mIn [32]\u001b[1;36m\u001b[0m\n\u001b[1;33m    PRAGMA table_info(Elite_audio_uploads);\u001b[0m\n\u001b[1;37m           ^\u001b[0m\n\u001b[1;31mSyntaxError\u001b[0m\u001b[1;31m:\u001b[0m invalid syntax\n"
     ]
    }
   ],
   "source": [
    "PRAGMA table_info(Elite_audio_uploads);"
   ]
  },
  {
   "cell_type": "code",
   "execution_count": 33,
   "id": "0268d6cb",
   "metadata": {},
   "outputs": [
    {
     "name": "stdout",
     "output_type": "stream",
     "text": [
      "C:\\Users\\Abhishek MR\n"
     ]
    }
   ],
   "source": [
    "cd C:\\Users\\Abhishek MR\\"
   ]
  },
  {
   "cell_type": "code",
   "execution_count": 34,
   "id": "09646bce",
   "metadata": {},
   "outputs": [
    {
     "ename": "SyntaxError",
     "evalue": "invalid syntax (3168812823.py, line 1)",
     "output_type": "error",
     "traceback": [
      "\u001b[1;36m  Input \u001b[1;32mIn [34]\u001b[1;36m\u001b[0m\n\u001b[1;33m    SELECT * from Elite_audio_uploads\u001b[0m\n\u001b[1;37m             ^\u001b[0m\n\u001b[1;31mSyntaxError\u001b[0m\u001b[1;31m:\u001b[0m invalid syntax\n"
     ]
    }
   ],
   "source": [
    "SELECT * from Elite_audio_uploads"
   ]
  },
  {
   "cell_type": "code",
   "execution_count": null,
   "id": "a56e6cd6",
   "metadata": {},
   "outputs": [],
   "source": []
  }
 ],
 "metadata": {
  "kernelspec": {
   "display_name": "Python 3 (ipykernel)",
   "language": "python",
   "name": "python3"
  },
  "language_info": {
   "codemirror_mode": {
    "name": "ipython",
    "version": 3
   },
   "file_extension": ".py",
   "mimetype": "text/x-python",
   "name": "python",
   "nbconvert_exporter": "python",
   "pygments_lexer": "ipython3",
   "version": "3.9.12"
  }
 },
 "nbformat": 4,
 "nbformat_minor": 5
}
